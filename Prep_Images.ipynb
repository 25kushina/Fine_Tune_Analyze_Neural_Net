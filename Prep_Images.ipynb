{
 "cells": [
  {
   "cell_type": "code",
   "execution_count": 26,
   "metadata": {
    "collapsed": true
   },
   "outputs": [],
   "source": [
    "%matplotlib inline\n",
    "from numpy import *\n",
    "import os\n",
    "from os import listdir\n",
    "from os.path import isfile, join\n",
    "from pylab import *\n",
    "import numpy as np\n",
    "import sys\n",
    "import Image\n",
    "import matplotlib.pyplot as plt\n",
    "import matplotlib.image as mpimg\n",
    "import matplotlib.cbook as cbook\n",
    "import time\n",
    "from scipy.misc import imread\n",
    "from scipy.misc import imresize\n",
    "from scipy.misc import imsave\n",
    "import matplotlib.image as mpimg\n",
    "from scipy.ndimage import filters\n",
    "import urllib\n",
    "from numpy import random"
   ]
  },
  {
   "cell_type": "code",
   "execution_count": 27,
   "metadata": {
    "collapsed": false
   },
   "outputs": [],
   "source": [
    "def cropCenter(img):\n",
    "    w =  np.size(img,1)\n",
    "    h =  np.size(img,0)\n",
    "    if w<h:\n",
    "        new_w = w\n",
    "        new_h = w\n",
    "    else:\n",
    "        new_w = h\n",
    "        new_h = h\n",
    "    left = np.ceil((w - new_w)/2.)\n",
    "    top = np.ceil((h - new_h)/2.)\n",
    "    right = np.floor((w + new_w)/2.)\n",
    "    bottom = np.floor((h + new_h)/2.)\n",
    "    cImg = img[top:bottom, left:right]\n",
    "    return cImg"
   ]
  },
  {
   "cell_type": "code",
   "execution_count": null,
   "metadata": {
    "collapsed": false
   },
   "outputs": [],
   "source": [
    "ImgPath = \"/imgDirRaw\"\n",
    "files = [f for f in listdir(ImgPath) if isfile(join(ImgPath, f)) and \"jpg\" in f]\n",
    "print files"
   ]
  },
  {
   "cell_type": "code",
   "execution_count": null,
   "metadata": {
    "collapsed": false
   },
   "outputs": [],
   "source": [
    "outPath = \"/ImgDir/\"\n",
    "for f in files:    \n",
    "    img = (imread(join(ImgPath, f))[:,:,:3]).astype(float32)    \n",
    "    cImg = cropCenter(img)\n",
    "    resizeImg = imresize(cImg, (227,227,3), interp='bilinear', mode=None)\n",
    "    plt.axis(\"off\")\n",
    "    plt.imshow(resizeImg)    \n",
    "    plt.show()\n",
    "    imsave(join(outPath,f),resizeImg)\n",
    "    print shape(resizeImg)"
   ]
  }
 ],
 "metadata": {
  "kernelspec": {
   "display_name": "Python 2",
   "language": "python",
   "name": "python2"
  },
  "language_info": {
   "codemirror_mode": {
    "name": "ipython",
    "version": 2
   },
   "file_extension": ".py",
   "mimetype": "text/x-python",
   "name": "python",
   "nbconvert_exporter": "python",
   "pygments_lexer": "ipython2",
   "version": "2.7.12"
  }
 },
 "nbformat": 4,
 "nbformat_minor": 1
}
